{
 "cells": [
  {
   "cell_type": "markdown",
   "metadata": {},
   "source": [
    "# Setup\n",
    "To run this code, you will need [Anaconda Python](https://www.anaconda.com/products/individual#macos) installed and some basic understanding of directory structures and the command line.  Most of the \n",
    "\n",
    "1. Develop a basic understanding of the OS X command line.  There are several videos about this topic, some are lengthy.  [This](https://www.youtube.com/watch?v=ftJoIN_OADc) video is reasonably short and provides the basics.\n",
    "2. There are two commands that are important, the change directory (cd) and launching Jupyter lab (jupyter lab) commands.  In addition, it is sometimes helpful to list your current working directory (pwd) and list the contents of the directory (ls or ls -l).  If you downloaded the contents of this GitHub repository to your Mac OS X desktop, the following commands would change into the correct directory and launch Juputer lab.  Once the Jupuyter lab server is running on the terminal, do not close the terminal.\n",
    "\n",
    "```command\n",
    "% cd ~/Desktop/summer_2020_data-master\n",
    "% jupyter lab\n",
    "```\n",
    "\n",
    "3. You should have a browser opened by entering the `jupyter lab` command (above) and then you can double click on the analysis_lesson_01.ipynb file.\n",
    "4. Using the code cells below, you should be able to press *shift+enter* to run a cell.  For example, if you had the code below in a cell, as you do in the cell following this, you could press *shift+enter* and it would store a string in something called *str_val), print the value as output, and then print the lowercase version of the same value as output.\n",
    "\n",
    "```python\n",
    "str_val = 'HELLO WORLD!'\n",
    "print(str_val)\n",
    "print(str_val.lower())\n",
    "```"
   ]
  },
  {
   "cell_type": "code",
   "execution_count": 1,
   "metadata": {},
   "outputs": [
    {
     "name": "stdout",
     "output_type": "stream",
     "text": [
      "HELLO WORLD!\n",
      "hello world!\n"
     ]
    }
   ],
   "source": [
    "str_val = 'HELLO WORLD!'\n",
    "print(str_val)\n",
    "print(str_val.lower())"
   ]
  },
  {
   "cell_type": "code",
   "execution_count": null,
   "metadata": {},
   "outputs": [],
   "source": []
  },
  {
   "cell_type": "markdown",
   "metadata": {},
   "source": [
    "# Introduction\n",
    "The dataset for this project was taken from the [Lego Dataset on Kaggle](https://www.kaggle.com/rtatman/lego-database).  It would be worthwhile to look at this dataset and the Kaggle site to collect some background information.\n",
    "\n",
    "As you might have noticed, there is a directory called **data** in the same folder as this notebook.  Within this directory there are a series of CSV files.  If you would like some background on CSV files, you can find information on the [comma-separated values](https://en.wikipedia.org/wiki/Comma-separated_values) Wikipedia page.  This is a common data storage format for storing row-type data, similar to a database.  In fact, the CSV files are actually from a database and our first task is going to be recreating parts of that database using the diagram below.\n",
    "\n",
    "The data structure for this dataset is detailed by this database diagram.  Take a look at the diagram and see if you can find the table called 'sets'.  Does the 'sets' table connect to anything?\n",
    "\n",
    "![Database Scheme](./data/downloads_schema.png)\n",
    "\n",
    "## Setup\n",
    "To get started, we are going to need a package from the Anaconda distribution that will help us read and manipulate the data.  A common tool to perform this is a package called [pandas](https://pandasguide.readthedocs.io/en/latest/) - there is a lot of technical information on this site, but it can be useful for examples.  To start, we are going to bring the pandas package into the Jupyter environment, so we can use it.  In addition, we also give it a short name - this is like a nickname, and in the case of pandas we give it a nickname of 'pd'."
   ]
  },
  {
   "cell_type": "code",
   "execution_count": 2,
   "metadata": {},
   "outputs": [],
   "source": [
    "import pandas as pd"
   ]
  },
  {
   "cell_type": "markdown",
   "metadata": {},
   "source": [
    "We also will want to generate some basic plots of the data, this allows us to visually see information about the data.  To accomplish this we use a neat feature of Jupyter called magic commands.  You can read all about these [magic commands](https://pandasguide.readthedocs.io/en/latest/).  The line below allows us to produce plots inline within the Jupyter notebook."
   ]
  },
  {
   "cell_type": "code",
   "execution_count": 3,
   "metadata": {},
   "outputs": [],
   "source": [
    "%matplotlib inline"
   ]
  },
  {
   "cell_type": "code",
   "execution_count": null,
   "metadata": {},
   "outputs": [],
   "source": []
  },
  {
   "cell_type": "markdown",
   "metadata": {},
   "source": [
    "## First Data File: Lego Sets\n",
    "The command below reads in the first CSV file.  As noted above, the goal is to read in the CSV files named 'sets.csv' from the data directory.  It is worthwhile to note, the '.' at the beginning of the path means \"starting from the current directory\", the remaining directory commands can be interpreted as English.  So, beginning from the current directory ('.'), look in the folder data ('/data'), find a file names sets.csv.  The command ```pd.read_csv('./data/sets.csv')``` performs the command from Pandas to read a CSV file, which is like opening it on your comnputer.\n",
    "\n",
    "After the file is read by Pandas, it is stored to a variable named ```df_sets```, which would be called a Pandas dataframe.  Finally, the shape of the dataframe is printed.  It shows that the file sets has 11,673 rows and 5 columns.  In addition, we could also ask for the column names and a preview of the first five rows of data; the next two cells show that code."
   ]
  },
  {
   "cell_type": "code",
   "execution_count": 4,
   "metadata": {},
   "outputs": [
    {
     "name": "stdout",
     "output_type": "stream",
     "text": [
      "(11673, 5)\n"
     ]
    }
   ],
   "source": [
    "df_sets = pd.read_csv('./data/sets.csv')\n",
    "print(df_sets.shape)"
   ]
  },
  {
   "cell_type": "code",
   "execution_count": null,
   "metadata": {},
   "outputs": [],
   "source": []
  },
  {
   "cell_type": "markdown",
   "metadata": {},
   "source": [
    "The code below prints a neat list fo the column names.  The call to the ```columns``` attribute returns a list, which we can print by joining together with a command a space between each item - this is called concatenation."
   ]
  },
  {
   "cell_type": "code",
   "execution_count": 5,
   "metadata": {},
   "outputs": [
    {
     "data": {
      "text/plain": [
       "'set_num, name, year, theme_id, num_parts'"
      ]
     },
     "execution_count": 5,
     "metadata": {},
     "output_type": "execute_result"
    }
   ],
   "source": [
    "', '.join(df_sets.columns)"
   ]
  },
  {
   "cell_type": "markdown",
   "metadata": {},
   "source": [
    "When we ask for the first few rows of data, it allows us to see the structure of the data.  What could you say about the two sets shown in the first five rows of data from the year 1979?  How many parts did each one have?  What theme do you think they belonged to (city, pirates, space, something else)?"
   ]
  },
  {
   "cell_type": "code",
   "execution_count": null,
   "metadata": {},
   "outputs": [],
   "source": []
  },
  {
   "cell_type": "code",
   "execution_count": 6,
   "metadata": {},
   "outputs": [
    {
     "data": {
      "text/html": [
       "<div>\n",
       "<style scoped>\n",
       "    .dataframe tbody tr th:only-of-type {\n",
       "        vertical-align: middle;\n",
       "    }\n",
       "\n",
       "    .dataframe tbody tr th {\n",
       "        vertical-align: top;\n",
       "    }\n",
       "\n",
       "    .dataframe thead th {\n",
       "        text-align: right;\n",
       "    }\n",
       "</style>\n",
       "<table border=\"1\" class=\"dataframe\">\n",
       "  <thead>\n",
       "    <tr style=\"text-align: right;\">\n",
       "      <th></th>\n",
       "      <th>set_num</th>\n",
       "      <th>name</th>\n",
       "      <th>year</th>\n",
       "      <th>theme_id</th>\n",
       "      <th>num_parts</th>\n",
       "    </tr>\n",
       "  </thead>\n",
       "  <tbody>\n",
       "    <tr>\n",
       "      <th>0</th>\n",
       "      <td>00-1</td>\n",
       "      <td>Weetabix Castle</td>\n",
       "      <td>1970</td>\n",
       "      <td>414</td>\n",
       "      <td>471</td>\n",
       "    </tr>\n",
       "    <tr>\n",
       "      <th>1</th>\n",
       "      <td>0011-2</td>\n",
       "      <td>Town Mini-Figures</td>\n",
       "      <td>1978</td>\n",
       "      <td>84</td>\n",
       "      <td>12</td>\n",
       "    </tr>\n",
       "    <tr>\n",
       "      <th>2</th>\n",
       "      <td>0011-3</td>\n",
       "      <td>Castle 2 for 1 Bonus Offer</td>\n",
       "      <td>1987</td>\n",
       "      <td>199</td>\n",
       "      <td>2</td>\n",
       "    </tr>\n",
       "    <tr>\n",
       "      <th>3</th>\n",
       "      <td>0012-1</td>\n",
       "      <td>Space Mini-Figures</td>\n",
       "      <td>1979</td>\n",
       "      <td>143</td>\n",
       "      <td>12</td>\n",
       "    </tr>\n",
       "    <tr>\n",
       "      <th>4</th>\n",
       "      <td>0013-1</td>\n",
       "      <td>Space Mini-Figures</td>\n",
       "      <td>1979</td>\n",
       "      <td>143</td>\n",
       "      <td>12</td>\n",
       "    </tr>\n",
       "  </tbody>\n",
       "</table>\n",
       "</div>"
      ],
      "text/plain": [
       "  set_num                        name  year  theme_id  num_parts\n",
       "0    00-1             Weetabix Castle  1970       414        471\n",
       "1  0011-2           Town Mini-Figures  1978        84         12\n",
       "2  0011-3  Castle 2 for 1 Bonus Offer  1987       199          2\n",
       "3  0012-1          Space Mini-Figures  1979       143         12\n",
       "4  0013-1          Space Mini-Figures  1979       143         12"
      ]
     },
     "execution_count": 6,
     "metadata": {},
     "output_type": "execute_result"
    }
   ],
   "source": [
    "df_sets.head()"
   ]
  },
  {
   "cell_type": "code",
   "execution_count": null,
   "metadata": {},
   "outputs": [],
   "source": []
  },
  {
   "cell_type": "markdown",
   "metadata": {},
   "source": [
    "## Basic Plots\n",
    "The code below takes the Lego sets dataframe and starts to explore the data using a graphical approach.  Sometimes this is helpful as it allows us to look across all of the data to understand how it looks.  Since the sets dataframe has over 11,0000 rows, there are far too many to look at manuall (one by one), so we have to aggregate and visualize the content in a meaningful way.  One tool to accomplish this is plotting, so we can get an sense of what the data contains in a picture without reviewing each row.  The plot below produces a plot called a histogram, which you can read about [here](https://en.wikipedia.org/wiki/Histogram).  A histogram is a way to show a count of the number of items, usually by creating \"bins\" or \"buckets\" or number ranges and counting.  For instance, if we wanted to look at the *num_parts* field we could create a plot that has 100 bins, then we would count the number of sets that have between the start and end values for a single bin.  For example, if we had a minimum value of 0 and a maximum value of 100 and a bin width of 10, we would have\n",
    "\n",
    "${range} = {maximum}-{minimum} = 100-0 = 100$\n",
    "\n",
    "and then divide the total range by the number of bins, so\n",
    "\n",
    "${bin width} = 100/10 = 10$\n",
    "\n",
    "This would produce a first bin from 0 to 10, and we would count the number of sets that have between 0 and 10 parts.  These ranges, such as 0 to 10, are called the bins or buckets.  At the end, we produce a bar graph of the count for each of the \"bins\".  The single line of code below performs all of this for us and produces a figure.  Try adjust the number of bins and the figure size..."
   ]
  },
  {
   "cell_type": "code",
   "execution_count": 7,
   "metadata": {},
   "outputs": [
    {
     "data": {
      "text/plain": [
       "<matplotlib.axes._subplots.AxesSubplot at 0x7fb01909bd30>"
      ]
     },
     "execution_count": 7,
     "metadata": {},
     "output_type": "execute_result"
    },
    {
     "data": {
      "image/png": "[encoded data removed]",
      "text/plain": [
       "<Figure size 1152x720 with 1 Axes>"
      ]
     },
     "metadata": {
      "needs_background": "light"
     },
     "output_type": "display_data"
    }
   ],
   "source": [
    "df_sets['num_parts'].plot.hist(figsize=(16,10),bins=100)"
   ]
  },
  {
   "cell_type": "code",
   "execution_count": null,
   "metadata": {},
   "outputs": [],
   "source": []
  },
  {
   "cell_type": "markdown",
   "metadata": {},
   "source": [
    "## Second Data File: Lego Themes\n",
    "One of the columns you might have noticed about the Lego sets file is there is a column called *theme_id*.  This seems like a column that should be more than just a number - they must have something more than a number for a theme, so they can call things part of a theme people would recognize, such as the City theme or the Space theme.  If we look at that data scheme file again, you will see that the *theme_id* column is tied to another CSV file (table) called 'themes.csv'.  Well, the data scheme picture shows that sets is tied to themes by *theme_id*, and it just so happens that there is a file called 'themse.csv' under the data directory.  So, our goal is read in this second file and produce some information similar to the sets file.\n",
    "\n",
    "![Database Scheme](./data/downloads_schema.png)\n",
    "\n",
    "The command below reads in the CSV file using the command ```pd.read_csv('./data/themese.csv')```.  After the file is read by Pandas, it is stored to a variable named ```df_themes``` as a Pandas dataframe.  Finally, the shape of the dataframe is printed.  It shows that the file sets has 614 rows and 3 columns.  This means that throughout the course of Lego products there have been 614 themes.  That is a lot of themes."
   ]
  },
  {
   "cell_type": "code",
   "execution_count": 8,
   "metadata": {},
   "outputs": [
    {
     "name": "stdout",
     "output_type": "stream",
     "text": [
      "(614, 3)\n"
     ]
    }
   ],
   "source": [
    "df_themes = pd.read_csv('./data/themes.csv')\n",
    "print(df_themes.shape)"
   ]
  },
  {
   "cell_type": "code",
   "execution_count": 9,
   "metadata": {},
   "outputs": [
    {
     "data": {
      "text/plain": [
       "'id, name, parent_id'"
      ]
     },
     "execution_count": 9,
     "metadata": {},
     "output_type": "execute_result"
    }
   ],
   "source": [
    "', '.join(df_themes.columns)"
   ]
  },
  {
   "cell_type": "code",
   "execution_count": 10,
   "metadata": {},
   "outputs": [
    {
     "data": {
      "text/html": [
       "<div>\n",
       "<style scoped>\n",
       "    .dataframe tbody tr th:only-of-type {\n",
       "        vertical-align: middle;\n",
       "    }\n",
       "\n",
       "    .dataframe tbody tr th {\n",
       "        vertical-align: top;\n",
       "    }\n",
       "\n",
       "    .dataframe thead th {\n",
       "        text-align: right;\n",
       "    }\n",
       "</style>\n",
       "<table border=\"1\" class=\"dataframe\">\n",
       "  <thead>\n",
       "    <tr style=\"text-align: right;\">\n",
       "      <th></th>\n",
       "      <th>id</th>\n",
       "      <th>name</th>\n",
       "      <th>parent_id</th>\n",
       "    </tr>\n",
       "  </thead>\n",
       "  <tbody>\n",
       "    <tr>\n",
       "      <th>0</th>\n",
       "      <td>1</td>\n",
       "      <td>Technic</td>\n",
       "      <td>NaN</td>\n",
       "    </tr>\n",
       "    <tr>\n",
       "      <th>1</th>\n",
       "      <td>2</td>\n",
       "      <td>Arctic Technic</td>\n",
       "      <td>1.0</td>\n",
       "    </tr>\n",
       "    <tr>\n",
       "      <th>2</th>\n",
       "      <td>3</td>\n",
       "      <td>Competition</td>\n",
       "      <td>1.0</td>\n",
       "    </tr>\n",
       "    <tr>\n",
       "      <th>3</th>\n",
       "      <td>4</td>\n",
       "      <td>Expert Builder</td>\n",
       "      <td>1.0</td>\n",
       "    </tr>\n",
       "    <tr>\n",
       "      <th>4</th>\n",
       "      <td>5</td>\n",
       "      <td>Model</td>\n",
       "      <td>1.0</td>\n",
       "    </tr>\n",
       "  </tbody>\n",
       "</table>\n",
       "</div>"
      ],
      "text/plain": [
       "   id            name  parent_id\n",
       "0   1         Technic        NaN\n",
       "1   2  Arctic Technic        1.0\n",
       "2   3     Competition        1.0\n",
       "3   4  Expert Builder        1.0\n",
       "4   5           Model        1.0"
      ]
     },
     "execution_count": 10,
     "metadata": {},
     "output_type": "execute_result"
    }
   ],
   "source": [
    "df_themes.head()"
   ]
  },
  {
   "cell_type": "code",
   "execution_count": null,
   "metadata": {},
   "outputs": [],
   "source": []
  },
  {
   "cell_type": "markdown",
   "metadata": {},
   "source": [
    "Sometimes you want to be able to find something within a dataframe to filter or check it.  For example, if we wanted to know all of the space themes we would probably look through all of the values in the name column and identify any that contain the word 'space'.  Using the computer we could search this column with the word 'space', but we would want to make sure we catch all the values of space regardless if it is spelled 'Space', 'space', 'SPACE', 'SpAce', or some variant.  Look at the results below and see if you can find the difference between the two commands.  One produces zero matching rows and the other produces nine."
   ]
  },
  {
   "cell_type": "code",
   "execution_count": 11,
   "metadata": {},
   "outputs": [
    {
     "data": {
      "text/html": [
       "<div>\n",
       "<style scoped>\n",
       "    .dataframe tbody tr th:only-of-type {\n",
       "        vertical-align: middle;\n",
       "    }\n",
       "\n",
       "    .dataframe tbody tr th {\n",
       "        vertical-align: top;\n",
       "    }\n",
       "\n",
       "    .dataframe thead th {\n",
       "        text-align: right;\n",
       "    }\n",
       "</style>\n",
       "<table border=\"1\" class=\"dataframe\">\n",
       "  <thead>\n",
       "    <tr style=\"text-align: right;\">\n",
       "      <th></th>\n",
       "      <th>id</th>\n",
       "      <th>name</th>\n",
       "      <th>parent_id</th>\n",
       "    </tr>\n",
       "  </thead>\n",
       "  <tbody>\n",
       "  </tbody>\n",
       "</table>\n",
       "</div>"
      ],
      "text/plain": [
       "Empty DataFrame\n",
       "Columns: [id, name, parent_id]\n",
       "Index: []"
      ]
     },
     "execution_count": 11,
     "metadata": {},
     "output_type": "execute_result"
    }
   ],
   "source": [
    "df_themes.loc[df_themes['name'].str.contains('space',case=True)]"
   ]
  },
  {
   "cell_type": "code",
   "execution_count": 12,
   "metadata": {},
   "outputs": [
    {
     "data": {
      "text/html": [
       "<div>\n",
       "<style scoped>\n",
       "    .dataframe tbody tr th:only-of-type {\n",
       "        vertical-align: middle;\n",
       "    }\n",
       "\n",
       "    .dataframe tbody tr th {\n",
       "        vertical-align: top;\n",
       "    }\n",
       "\n",
       "    .dataframe thead th {\n",
       "        text-align: right;\n",
       "    }\n",
       "</style>\n",
       "<table border=\"1\" class=\"dataframe\">\n",
       "  <thead>\n",
       "    <tr style=\"text-align: right;\">\n",
       "      <th></th>\n",
       "      <th>id</th>\n",
       "      <th>name</th>\n",
       "      <th>parent_id</th>\n",
       "    </tr>\n",
       "  </thead>\n",
       "  <tbody>\n",
       "    <tr>\n",
       "      <th>92</th>\n",
       "      <td>93</td>\n",
       "      <td>Space Port</td>\n",
       "      <td>50.0</td>\n",
       "    </tr>\n",
       "    <tr>\n",
       "      <th>125</th>\n",
       "      <td>126</td>\n",
       "      <td>Space</td>\n",
       "      <td>NaN</td>\n",
       "    </tr>\n",
       "    <tr>\n",
       "      <th>129</th>\n",
       "      <td>130</td>\n",
       "      <td>Classic Space</td>\n",
       "      <td>126.0</td>\n",
       "    </tr>\n",
       "    <tr>\n",
       "      <th>138</th>\n",
       "      <td>139</td>\n",
       "      <td>Space Police I</td>\n",
       "      <td>126.0</td>\n",
       "    </tr>\n",
       "    <tr>\n",
       "      <th>139</th>\n",
       "      <td>140</td>\n",
       "      <td>Space Police II</td>\n",
       "      <td>126.0</td>\n",
       "    </tr>\n",
       "    <tr>\n",
       "      <th>140</th>\n",
       "      <td>141</td>\n",
       "      <td>Space Police III</td>\n",
       "      <td>126.0</td>\n",
       "    </tr>\n",
       "    <tr>\n",
       "      <th>421</th>\n",
       "      <td>422</td>\n",
       "      <td>Space</td>\n",
       "      <td>411.0</td>\n",
       "    </tr>\n",
       "    <tr>\n",
       "      <th>451</th>\n",
       "      <td>452</td>\n",
       "      <td>Space</td>\n",
       "      <td>443.0</td>\n",
       "    </tr>\n",
       "    <tr>\n",
       "      <th>526</th>\n",
       "      <td>527</td>\n",
       "      <td>Space</td>\n",
       "      <td>507.0</td>\n",
       "    </tr>\n",
       "  </tbody>\n",
       "</table>\n",
       "</div>"
      ],
      "text/plain": [
       "      id              name  parent_id\n",
       "92    93        Space Port       50.0\n",
       "125  126             Space        NaN\n",
       "129  130     Classic Space      126.0\n",
       "138  139    Space Police I      126.0\n",
       "139  140   Space Police II      126.0\n",
       "140  141  Space Police III      126.0\n",
       "421  422             Space      411.0\n",
       "451  452             Space      443.0\n",
       "526  527             Space      507.0"
      ]
     },
     "execution_count": 12,
     "metadata": {},
     "output_type": "execute_result"
    }
   ],
   "source": [
    "df_themes.loc[df_themes['name'].str.contains('space',case=False)]"
   ]
  },
  {
   "cell_type": "code",
   "execution_count": null,
   "metadata": {},
   "outputs": [],
   "source": []
  },
  {
   "cell_type": "markdown",
   "metadata": {},
   "source": [
    "## Merging\n",
    "It turns out the sets table and the themes table can actually be joined together, so you would be able to read one row and know a Lego set and identify which theme it belongs to.  This is exactly what the diagram above shows for the data scheme.  In particular, the sets table and the themese table are joined together or merged.  The command below performs this function for us with the input of the two datadframe and which columns should be matched together.  In this case, we are matching the *theme_id* from the sets dataframe and the *id* from the themes dataframe.\n",
    "\n",
    "If they designed these tables correctly, the themes dataframe should contain all of the different types of values within the *theme_id* column from the sets table.  So, we should end up with the same number of rows in the merged dataframe as there were in the sets dataframe, which was 11,673 rows.  Since we are merging together two dataframes, we will have more columns."
   ]
  },
  {
   "cell_type": "code",
   "execution_count": 13,
   "metadata": {},
   "outputs": [
    {
     "name": "stdout",
     "output_type": "stream",
     "text": [
      "(11673, 8)\n"
     ]
    }
   ],
   "source": [
    "df_merged_sets_themes = pd.merge(left=df_sets,right=df_themes,left_on='theme_id',right_on='id',how='inner')\n",
    "print(df_merged_sets_themes.shape)"
   ]
  },
  {
   "cell_type": "code",
   "execution_count": 14,
   "metadata": {},
   "outputs": [
    {
     "data": {
      "text/plain": [
       "'set_num, name_x, year, theme_id, num_parts, id, name_y, parent_id'"
      ]
     },
     "execution_count": 14,
     "metadata": {},
     "output_type": "execute_result"
    }
   ],
   "source": [
    "', '.join(df_merged_sets_themes.columns)"
   ]
  },
  {
   "cell_type": "code",
   "execution_count": 15,
   "metadata": {},
   "outputs": [
    {
     "data": {
      "text/html": [
       "<div>\n",
       "<style scoped>\n",
       "    .dataframe tbody tr th:only-of-type {\n",
       "        vertical-align: middle;\n",
       "    }\n",
       "\n",
       "    .dataframe tbody tr th {\n",
       "        vertical-align: top;\n",
       "    }\n",
       "\n",
       "    .dataframe thead th {\n",
       "        text-align: right;\n",
       "    }\n",
       "</style>\n",
       "<table border=\"1\" class=\"dataframe\">\n",
       "  <thead>\n",
       "    <tr style=\"text-align: right;\">\n",
       "      <th></th>\n",
       "      <th>set_num</th>\n",
       "      <th>name_x</th>\n",
       "      <th>year</th>\n",
       "      <th>theme_id</th>\n",
       "      <th>num_parts</th>\n",
       "      <th>id</th>\n",
       "      <th>name_y</th>\n",
       "      <th>parent_id</th>\n",
       "    </tr>\n",
       "  </thead>\n",
       "  <tbody>\n",
       "    <tr>\n",
       "      <th>0</th>\n",
       "      <td>00-1</td>\n",
       "      <td>Weetabix Castle</td>\n",
       "      <td>1970</td>\n",
       "      <td>414</td>\n",
       "      <td>471</td>\n",
       "      <td>414</td>\n",
       "      <td>Castle</td>\n",
       "      <td>411.0</td>\n",
       "    </tr>\n",
       "    <tr>\n",
       "      <th>1</th>\n",
       "      <td>0011-2</td>\n",
       "      <td>Town Mini-Figures</td>\n",
       "      <td>1978</td>\n",
       "      <td>84</td>\n",
       "      <td>12</td>\n",
       "      <td>84</td>\n",
       "      <td>Supplemental</td>\n",
       "      <td>67.0</td>\n",
       "    </tr>\n",
       "    <tr>\n",
       "      <th>2</th>\n",
       "      <td>2181-1</td>\n",
       "      <td>Infomaniac</td>\n",
       "      <td>1997</td>\n",
       "      <td>84</td>\n",
       "      <td>4</td>\n",
       "      <td>84</td>\n",
       "      <td>Supplemental</td>\n",
       "      <td>67.0</td>\n",
       "    </tr>\n",
       "    <tr>\n",
       "      <th>3</th>\n",
       "      <td>300-1</td>\n",
       "      <td>T-Junction Road Plates</td>\n",
       "      <td>1978</td>\n",
       "      <td>84</td>\n",
       "      <td>2</td>\n",
       "      <td>84</td>\n",
       "      <td>Supplemental</td>\n",
       "      <td>67.0</td>\n",
       "    </tr>\n",
       "    <tr>\n",
       "      <th>4</th>\n",
       "      <td>301-1</td>\n",
       "      <td>Curved Road Plates</td>\n",
       "      <td>1978</td>\n",
       "      <td>84</td>\n",
       "      <td>2</td>\n",
       "      <td>84</td>\n",
       "      <td>Supplemental</td>\n",
       "      <td>67.0</td>\n",
       "    </tr>\n",
       "  </tbody>\n",
       "</table>\n",
       "</div>"
      ],
      "text/plain": [
       "  set_num                  name_x  year  theme_id  num_parts   id  \\\n",
       "0    00-1         Weetabix Castle  1970       414        471  414   \n",
       "1  0011-2       Town Mini-Figures  1978        84         12   84   \n",
       "2  2181-1              Infomaniac  1997        84          4   84   \n",
       "3   300-1  T-Junction Road Plates  1978        84          2   84   \n",
       "4   301-1      Curved Road Plates  1978        84          2   84   \n",
       "\n",
       "         name_y  parent_id  \n",
       "0        Castle      411.0  \n",
       "1  Supplemental       67.0  \n",
       "2  Supplemental       67.0  \n",
       "3  Supplemental       67.0  \n",
       "4  Supplemental       67.0  "
      ]
     },
     "execution_count": 15,
     "metadata": {},
     "output_type": "execute_result"
    }
   ],
   "source": [
    "df_merged_sets_themes.head()"
   ]
  },
  {
   "cell_type": "code",
   "execution_count": null,
   "metadata": {},
   "outputs": [],
   "source": []
  },
  {
   "cell_type": "markdown",
   "metadata": {},
   "source": [
    "## Next Steps\n",
    "How would you read in the inventory_sets table and merge it with the ```df_merged_sets_themes``` dataframe produced in the previous step?  Remember, the first step is to read it in.  The second step would be to find where the inventory_sets table merges with the sets table, which is now called ```df_merged_sets_themes```."
   ]
  },
  {
   "cell_type": "code",
   "execution_count": 16,
   "metadata": {},
   "outputs": [],
   "source": [
    "# Step 1: Read in the file from the data directory called inventory_sets.csv.\n"
   ]
  },
  {
   "cell_type": "code",
   "execution_count": 17,
   "metadata": {},
   "outputs": [],
   "source": [
    "# Step 2: Using a very similar command as the one in the merging section above, merge the two dataframes together.\n"
   ]
  },
  {
   "cell_type": "code",
   "execution_count": null,
   "metadata": {},
   "outputs": [],
   "source": []
  }
 ],
 "metadata": {
  "kernelspec": {
   "display_name": "Python 3",
   "language": "python",
   "name": "python3"
  },
  "language_info": {
   "codemirror_mode": {
    "name": "ipython",
    "version": 3
   },
   "file_extension": ".py",
   "mimetype": "text/x-python",
   "name": "python",
   "nbconvert_exporter": "python",
   "pygments_lexer": "ipython3",
   "version": "3.7.3"
  }
 },
 "nbformat": 4,
 "nbformat_minor": 4
}
